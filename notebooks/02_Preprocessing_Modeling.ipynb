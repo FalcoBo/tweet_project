{
 "cells": [
  {
   "cell_type": "markdown",
   "id": "043fc8fd",
   "metadata": {},
   "source": [
    "## Partie 2 – Traitement de texte (Text Preprocessing)\n",
    "\n",
    "# OBJECTIFS\n",
    "    - Nettoyer et transformer les tweets pour la modélisation\n",
    "    - Réduire la dimensionnalité du corpus\n",
    "    - Extraire une version épurée et utile du texte\n",
    "\n",
    "# Étapes à suivre\n",
    "\n",
    "- Écrire une fonction pour :\n",
    "    - Tokeniser un tweet\n",
    "    - Supprimer la ponctuation, les chiffres, les mots courts (< 3 lettres)\n",
    "    - Supprimer les stopwords\n",
    "    - Appliquer stemming ou lemmatisation\n",
    "- Reconstituer un corpus nettoyé\n",
    "- Analyser :\n",
    "    - Le nombre total de tokens\n",
    "    - Le nombre de tokens uniques\n",
    "    - Le nombre de tokens apparaissant une seule fois\n",
    "- Visualiser les tokens les plus fréquents (WordCloud)"
   ]
  },
  {
   "cell_type": "code",
   "execution_count": null,
   "id": "cfd28714",
   "metadata": {},
   "outputs": [],
   "source": []
  }
 ],
 "metadata": {
  "kernelspec": {
   "display_name": "venv",
   "language": "python",
   "name": "python3"
  },
  "language_info": {
   "name": "python",
   "version": "3.12.0"
  }
 },
 "nbformat": 4,
 "nbformat_minor": 5
}
