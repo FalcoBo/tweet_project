{
 "cells": [
  {
   "cell_type": "markdown",
   "id": "c717ad93",
   "metadata": {},
   "source": [
    "## Partie 1 – Exploratory Data Analysis(EDA)\n",
    "\n",
    "## Objectifs \n",
    "\n",
    "- Comprendre la forme et le contenu du dataset\n",
    "- Identifier les anomalies, les valeurs aberrantes ou manquantes\n",
    "- Analyser la distribution des textes et des classes\n",
    "\n",
    "## Questions à traiter \n",
    "\n",
    "- Quelle est la forme du DataFrame ?\n",
    "- Y a-t-il des valeurs manquantes ?\n",
    "- Des doublons ?\n",
    "- Quelles colonnes vont nous être utiles ?\n",
    "- Existe-t-il des incohérences ou des outliers ?\n",
    "- Y a-t-il des tweets anormalement courts ou longs ?\n",
    "- Quelle est la répartition de la variable cible ?\n",
    "- En regardant des tweets aléatoires, la cible semble-t-elle prévisible ?"
   ]
  },
  {
   "cell_type": "code",
   "execution_count": 38,
   "id": "1b101c74",
   "metadata": {},
   "outputs": [],
   "source": [
    "# Importation des bibliothèques nécessaires à l'exploration du dataset\n",
    "import pandas as pd\n",
    "import numpy as np\n",
    "import matplotlib.pyplot as plt\n",
    "import seaborn as sns"
   ]
  },
  {
   "cell_type": "markdown",
   "id": "b2785e7c",
   "metadata": {},
   "source": [
    "FORME DU DATASET"
   ]
  },
  {
   "cell_type": "code",
   "execution_count": 39,
   "id": "4049517e",
   "metadata": {},
   "outputs": [
    {
     "data": {
      "application/vnd.microsoft.datawrangler.viewer.v0+json": {
       "columns": [
        {
         "name": "index",
         "rawType": "int64",
         "type": "integer"
        },
        {
         "name": "id",
         "rawType": "int64",
         "type": "integer"
        },
        {
         "name": "keyword",
         "rawType": "object",
         "type": "unknown"
        },
        {
         "name": "location",
         "rawType": "object",
         "type": "unknown"
        },
        {
         "name": "text",
         "rawType": "object",
         "type": "string"
        },
        {
         "name": "target",
         "rawType": "int64",
         "type": "integer"
        }
       ],
       "ref": "d81519d0-e679-424a-bdfd-e66e40d6c9e4",
       "rows": [
        [
         "0",
         "1",
         null,
         null,
         "Our Deeds are the Reason of this #earthquake May ALLAH Forgive us all",
         "1"
        ],
        [
         "1",
         "4",
         null,
         null,
         "Forest fire near La Ronge Sask. Canada",
         "1"
        ],
        [
         "2",
         "5",
         null,
         null,
         "All residents asked to 'shelter in place' are being notified by officers. No other evacuation or shelter in place orders are expected",
         "1"
        ],
        [
         "3",
         "6",
         null,
         null,
         "13,000 people receive #wildfires evacuation orders in California ",
         "1"
        ],
        [
         "4",
         "7",
         null,
         null,
         "Just got sent this photo from Ruby #Alaska as smoke from #wildfires pours into a school ",
         "1"
        ]
       ],
       "shape": {
        "columns": 5,
        "rows": 5
       }
      },
      "text/html": [
       "<div>\n",
       "<style scoped>\n",
       "    .dataframe tbody tr th:only-of-type {\n",
       "        vertical-align: middle;\n",
       "    }\n",
       "\n",
       "    .dataframe tbody tr th {\n",
       "        vertical-align: top;\n",
       "    }\n",
       "\n",
       "    .dataframe thead th {\n",
       "        text-align: right;\n",
       "    }\n",
       "</style>\n",
       "<table border=\"1\" class=\"dataframe\">\n",
       "  <thead>\n",
       "    <tr style=\"text-align: right;\">\n",
       "      <th></th>\n",
       "      <th>id</th>\n",
       "      <th>keyword</th>\n",
       "      <th>location</th>\n",
       "      <th>text</th>\n",
       "      <th>target</th>\n",
       "    </tr>\n",
       "  </thead>\n",
       "  <tbody>\n",
       "    <tr>\n",
       "      <th>0</th>\n",
       "      <td>1</td>\n",
       "      <td>NaN</td>\n",
       "      <td>NaN</td>\n",
       "      <td>Our Deeds are the Reason of this #earthquake M...</td>\n",
       "      <td>1</td>\n",
       "    </tr>\n",
       "    <tr>\n",
       "      <th>1</th>\n",
       "      <td>4</td>\n",
       "      <td>NaN</td>\n",
       "      <td>NaN</td>\n",
       "      <td>Forest fire near La Ronge Sask. Canada</td>\n",
       "      <td>1</td>\n",
       "    </tr>\n",
       "    <tr>\n",
       "      <th>2</th>\n",
       "      <td>5</td>\n",
       "      <td>NaN</td>\n",
       "      <td>NaN</td>\n",
       "      <td>All residents asked to 'shelter in place' are ...</td>\n",
       "      <td>1</td>\n",
       "    </tr>\n",
       "    <tr>\n",
       "      <th>3</th>\n",
       "      <td>6</td>\n",
       "      <td>NaN</td>\n",
       "      <td>NaN</td>\n",
       "      <td>13,000 people receive #wildfires evacuation or...</td>\n",
       "      <td>1</td>\n",
       "    </tr>\n",
       "    <tr>\n",
       "      <th>4</th>\n",
       "      <td>7</td>\n",
       "      <td>NaN</td>\n",
       "      <td>NaN</td>\n",
       "      <td>Just got sent this photo from Ruby #Alaska as ...</td>\n",
       "      <td>1</td>\n",
       "    </tr>\n",
       "  </tbody>\n",
       "</table>\n",
       "</div>"
      ],
      "text/plain": [
       "   id keyword location                                               text  \\\n",
       "0   1     NaN      NaN  Our Deeds are the Reason of this #earthquake M...   \n",
       "1   4     NaN      NaN             Forest fire near La Ronge Sask. Canada   \n",
       "2   5     NaN      NaN  All residents asked to 'shelter in place' are ...   \n",
       "3   6     NaN      NaN  13,000 people receive #wildfires evacuation or...   \n",
       "4   7     NaN      NaN  Just got sent this photo from Ruby #Alaska as ...   \n",
       "\n",
       "   target  \n",
       "0       1  \n",
       "1       1  \n",
       "2       1  \n",
       "3       1  \n",
       "4       1  "
      ]
     },
     "execution_count": 39,
     "metadata": {},
     "output_type": "execute_result"
    }
   ],
   "source": [
    "# Chargement du dataset\n",
    "df = pd.read_csv('../data/tweets.csv')\n",
    "df.head()"
   ]
  },
  {
   "cell_type": "code",
   "execution_count": 40,
   "id": "8d0a2a47",
   "metadata": {},
   "outputs": [
    {
     "name": "stdout",
     "output_type": "stream",
     "text": [
      "<class 'pandas.core.frame.DataFrame'>\n",
      "RangeIndex: 7613 entries, 0 to 7612\n",
      "Data columns (total 5 columns):\n",
      " #   Column    Non-Null Count  Dtype \n",
      "---  ------    --------------  ----- \n",
      " 0   id        7613 non-null   int64 \n",
      " 1   keyword   7552 non-null   object\n",
      " 2   location  5080 non-null   object\n",
      " 3   text      7613 non-null   object\n",
      " 4   target    7613 non-null   int64 \n",
      "dtypes: int64(2), object(3)\n",
      "memory usage: 297.5+ KB\n",
      "None\n",
      "                 id      target\n",
      "count   7613.000000  7613.00000\n",
      "mean    5441.934848     0.42966\n",
      "std     3137.116090     0.49506\n",
      "min        1.000000     0.00000\n",
      "25%     2734.000000     0.00000\n",
      "50%     5408.000000     0.00000\n",
      "75%     8146.000000     1.00000\n",
      "max    10873.000000     1.00000\n"
     ]
    }
   ],
   "source": [
    "# Affichage des informations générales et des statistiques descriptives du dataset\n",
    "print(df.info())\n",
    "print(df.describe())"
   ]
  },
  {
   "cell_type": "markdown",
   "id": "9cc534a8",
   "metadata": {},
   "source": [
    "VALEURS MANQUANTES"
   ]
  },
  {
   "cell_type": "code",
   "execution_count": 41,
   "id": "f8c9893a",
   "metadata": {},
   "outputs": [
    {
     "name": "stdout",
     "output_type": "stream",
     "text": [
      "Valeurs manquantes par colonne :\n",
      "keyword       61\n",
      "location    2533\n",
      "dtype: int64\n"
     ]
    }
   ],
   "source": [
    "# Valeurs manquantes\n",
    "missing_values = df.isnull().sum()\n",
    "print(\"Valeurs manquantes par colonne :\")\n",
    "print(missing_values[missing_values > 0])"
   ]
  },
  {
   "cell_type": "markdown",
   "id": "8034338c",
   "metadata": {},
   "source": [
    "DONNEES DUPLIQUEES"
   ]
  },
  {
   "cell_type": "code",
   "execution_count": 42,
   "id": "b8ba76ab",
   "metadata": {},
   "outputs": [
    {
     "name": "stdout",
     "output_type": "stream",
     "text": [
      "Nombre de lignes dupliquées : 0\n"
     ]
    }
   ],
   "source": [
    "# Données dupliquées\n",
    "duplicates = df.duplicated().sum()\n",
    "print(f\"Nombre de lignes dupliquées : {duplicates}\")"
   ]
  },
  {
   "cell_type": "markdown",
   "id": "6873e5b4",
   "metadata": {},
   "source": [
    "COLONNES UTILES POUR LA MODELISATION"
   ]
  },
  {
   "cell_type": "code",
   "execution_count": 43,
   "id": "a8ceb4f6",
   "metadata": {},
   "outputs": [
    {
     "name": "stdout",
     "output_type": "stream",
     "text": [
      "Nom des colonnes :\n",
      "Index(['id', 'keyword', 'location', 'text', 'target'], dtype='object')\n"
     ]
    }
   ],
   "source": [
    "# Nom des colonnes\n",
    "print(\"Nom des colonnes :\")\n",
    "print(df.columns)"
   ]
  },
  {
   "cell_type": "code",
   "execution_count": 44,
   "id": "58882c27",
   "metadata": {},
   "outputs": [
    {
     "name": "stdout",
     "output_type": "stream",
     "text": [
      "Types de données :\n",
      "id           int64\n",
      "keyword     object\n",
      "location    object\n",
      "text        object\n",
      "target       int64\n",
      "dtype: object\n"
     ]
    }
   ],
   "source": [
    "# Types de données\n",
    "print(\"Types de données :\")\n",
    "print(df.dtypes)"
   ]
  },
  {
   "cell_type": "code",
   "execution_count": 45,
   "id": "01d7d0ec",
   "metadata": {},
   "outputs": [
    {
     "name": "stdout",
     "output_type": "stream",
     "text": [
      "Nombre de lignes : 7613, Nombre de colonnes : 5\n"
     ]
    }
   ],
   "source": [
    "# Nombre de lignes et de colonnes\n",
    "print(f\"Nombre de lignes : {df.shape[0]}, Nombre de colonnes : {df.shape[1]}\")"
   ]
  },
  {
   "cell_type": "code",
   "execution_count": 46,
   "id": "32f1c3f8",
   "metadata": {},
   "outputs": [
    {
     "name": "stdout",
     "output_type": "stream",
     "text": [
      "Valeurs uniques par colonne :\n",
      "id: 7613 valeurs uniques\n",
      "keyword: 221 valeurs uniques\n",
      "location: 3341 valeurs uniques\n",
      "text: 7503 valeurs uniques\n",
      "target: 2 valeurs uniques\n"
     ]
    }
   ],
   "source": [
    "# Valeurs uniques par colonne\n",
    "print(\"Valeurs uniques par colonne :\")\n",
    "for column in df.columns:\n",
    "    unique_values = df[column].nunique()\n",
    "    print(f\"{column}: {unique_values} valeurs uniques\")"
   ]
  },
  {
   "cell_type": "code",
   "execution_count": 47,
   "id": "120b6f62",
   "metadata": {},
   "outputs": [
    {
     "name": "stdout",
     "output_type": "stream",
     "text": [
      "Colonnes utiles pour la modélisation :\n",
      "['text', 'target']\n"
     ]
    }
   ],
   "source": [
    "# Definir les colonnes utiles pour la modélisation et pourquoi elles sont importantes\n",
    "# 'text' : Contient le texte des tweets, essentiel pour l'analyse de sentiment.\n",
    "# 'target' : Variable cible pour la classification, indique si le tweet est positif ou négatif.\n",
    "useful_columns = ['text', 'target']\n",
    "print(\"Colonnes utiles pour la modélisation :\")\n",
    "print(useful_columns)"
   ]
  },
  {
   "cell_type": "markdown",
   "id": "8ee52e26",
   "metadata": {},
   "source": [
    "INCOHERENCES ET OUTLIERS"
   ]
  },
  {
   "cell_type": "markdown",
   "id": "22f52e5e",
   "metadata": {},
   "source": [
    "TWEETS ANORMALEMENT COURTS OU LONG"
   ]
  },
  {
   "cell_type": "code",
   "execution_count": 48,
   "id": "2adf0717",
   "metadata": {},
   "outputs": [
    {
     "name": "stdout",
     "output_type": "stream",
     "text": [
      "TWEETS ANORMALEMENT COURTS OU LONGS\n",
      "Nombre de tweets anormalement courts (< 10 caractères) : 9\n",
      "Nombre de tweets anormalement longs (> 280 caractères) : 0\n"
     ]
    }
   ],
   "source": [
    "# Tweets anormalement courts ou longs\n",
    "print(\"TWEETS ANORMALEMENT COURTS OU LONGS\")\n",
    "short_tweets = df[df['text'].str.len() < 10]\n",
    "long_tweets = df[df['text'].str.len() > 280]\n",
    "print(f\"Nombre de tweets anormalement courts (< 10 caractères) : {len(short_tweets)}\")\n",
    "print(f\"Nombre de tweets anormalement longs (> 280 caractères) : {len(long_tweets)}\")"
   ]
  },
  {
   "cell_type": "code",
   "execution_count": 49,
   "id": "45e09108",
   "metadata": {},
   "outputs": [
    {
     "data": {
      "image/png": "[encoded data removed]",
      "text/plain": [
       "<Figure size 1000x600 with 1 Axes>"
      ]
     },
     "metadata": {},
     "output_type": "display_data"
    }
   ],
   "source": [
    "# Visualisation des longueurs des tweets\n",
    "plt.figure(figsize=(10, 6))\n",
    "sns.histplot(df['text'].str.len(), bins=50, kde=True)\n",
    "plt.title('Distribution des longueurs des tweets')\n",
    "plt.xlabel('Longueur du tweet (en caractères)')\n",
    "plt.ylabel('Fréquence')\n",
    "plt.axvline(x=10, color='red', linestyle='--', label='Longueur minimale (10 caractères)')\n",
    "plt.axvline(x=280, color='green', linestyle='--', label='Longueur maximale (280 caractères)')\n",
    "plt.legend()\n",
    "plt.show()"
   ]
  },
  {
   "cell_type": "markdown",
   "id": "d98d0875",
   "metadata": {},
   "source": [
    "REPARTITION DE LA VARIABLE CIBLE"
   ]
  },
  {
   "cell_type": "code",
   "execution_count": 50,
   "id": "96b1871a",
   "metadata": {},
   "outputs": [
    {
     "name": "stdout",
     "output_type": "stream",
     "text": [
      "Distribution de la variable cible 'target' :\n"
     ]
    },
    {
     "data": {
      "image/png": "[encoded data removed]",
      "text/plain": [
       "<Figure size 640x480 with 1 Axes>"
      ]
     },
     "metadata": {},
     "output_type": "display_data"
    }
   ],
   "source": [
    "# Variable cible\n",
    "print(\"Distribution de la variable cible 'target' :\")\n",
    "sns.countplot(x='target', data=df)\n",
    "plt.title('Distribution de la variable cible')\n",
    "plt.xlabel('Target')\n",
    "plt.ylabel('Count')\n",
    "plt.show()"
   ]
  },
  {
   "cell_type": "markdown",
   "id": "9e013fce",
   "metadata": {},
   "source": [
    "TWEETS ALEATOIRE --> CIBLE PREVISIBLE ?"
   ]
  },
  {
   "cell_type": "code",
   "execution_count": 51,
   "id": "26b183c7",
   "metadata": {},
   "outputs": [
    {
     "name": "stdout",
     "output_type": "stream",
     "text": [
      "TWEETS ALEATOIRE --> CIBLE PREVISIBLE ?\n",
      "Exemples de tweets aléatoires avec leur cible :\n",
      "Tweet: Services are returning to normal #SouthLine after a medical emergency at Yennora and urgent track equipment repairs at Cabramatta earlier., Cible: 1\n",
      "Tweet: Being able to stay out of work this week to take online courses for the Property and Casualty StateÛ_ https://t.co/jmD7zwKSDM, Cible: 0\n",
      "Tweet: Love skiing, Cible: 0\n",
      "Tweet: EE recalls Power Bar battery packs after explosion in student's bedroom http://t.co/EKWTiHlwuf, Cible: 1\n",
      "Tweet: Tonight we have attended a fire in Romford with @LondonFire thankfully no injuries http://t.co/iyjeJop2WI, Cible: 1\n",
      "Tweet: INFOGRAPHIC: At least 20 Turkish security officials killed in PKK and ISIS terror attacks since Suruc suicide bombing http://t.co/UvAOJzcYcZ, Cible: 1\n",
      "Tweet: #NASA announced that a massive #solar storm is headed straight for us: http://t.co/CM5u55MiOl, Cible: 1\n",
      "Tweet: Homeless Man Traveling Across USA With 11 Stray Dogs He Rescued Gets A Helping Hand From Strangers http://t.co/QhfqlUI6RY via @Reshareworthy, Cible: 0\n",
      "Tweet: ChinaÛªs stock market crash this summer has sparked interest from bargain hunters and bulls betting on a rebound. DÛ_ http://t.co/1yggZziZ9o, Cible: 0\n",
      "Tweet: @danagould @WaynesterAtl I agree with background checks. I just think guns or weapons in general are the great equalizer., Cible: 0\n",
      "Tweet: Reddit Will Now Quarantine Offensive Content http://t.co/cNsHlNjUqX, Cible: 0\n",
      "Tweet: For maximum damage! Activate [BIG BAND MODE] for old-timey obliteration!, Cible: 0\n",
      "Tweet: 'Invading Iraq was a catastrophic mistake'.\n",
      "\n",
      "Diplomacy needs to replace constant threat of war by US and Israel:\n",
      "\n",
      "http://t.co/yqjpn3qUUX, Cible: 1\n",
      "Tweet: myGC: Broken powerlines evacuate Gold Coast tram suspend services http://t.co/6e7hHfeRz4, Cible: 1\n",
      "Tweet: FCO Minister @Tobias_Ellwood condemns attack at a mosque in Saudi Arabia that has resulted in at least 15 deaths http://t.co/c3W95h0ozZ, Cible: 1\n",
      "Tweet: Madhya Pradesh Train Derailment: Village Youth Saved Many Lives, Cible: 1\n",
      "Tweet: Another Mac vuln!\n",
      "\n",
      "https://t.co/OxXRnaB8Un, Cible: 0\n",
      "Tweet: @fadelurker @dalinthanelan &lt; right now.\n",
      "\n",
      "Even after two years there were still refugees camped just south of Redcliffe village and Aidan &gt;, Cible: 1\n",
      "Tweet: //./../.. Pic of 16yr old PKK suicide bomber who detonated bomb in Turkey Army trench released http://t.co/Sj57BoKsiB -/, Cible: 1\n",
      "Tweet: When you're girlfriend is completely gorgeous???? @ woman crush &amp; stuff https://t.co/ycwAULQz3U, Cible: 0\n",
      "Tweet: @themagickidraps not upset with a rally upset with burning buildings businesses executing cops that have nothing to do with it etc, Cible: 1\n",
      "Tweet: Maryland mansion fire that killed 6 caused by damaged plug under Christmas tree report says - Into the flames... http://t.co/ucUDwIU3aN, Cible: 1\n",
      "Tweet: My #mantra this morning!! Heading out to Make a whirlwind trip down southÛ_ https://t.co/geht4sKI86, Cible: 0\n",
      "Tweet: Musician Kalle Mattson Recreates 34 Classic Album Covers in Clever Music Video for 'Avalanche' http://t.co/yDJpOpH1DW, Cible: 0\n",
      "Tweet: He's being put on a stretcher ?? don't want to see that., Cible: 0\n",
      "Tweet: I'm afraid that the tornado is coming to our area..., Cible: 1\n",
      "Tweet: Despite the crippling anxiety and overwhelming panic attacks I'd say I'm fairly well-adjusted., Cible: 0\n",
      "Tweet: remember that time goku gave life to a dead birb \n",
      "what the hell goku, Cible: 0\n",
      "Tweet: My dad is panicking as my weight loss means he needs to hurry up with my new clothes fundwhen I reach my goal.  ??, Cible: 0\n",
      "Tweet: @envw98 @NickCoCoFree @JulieDiCaro @jdabe80 I asked how did he feel attacked by julie.  I asked if he was frail.   That is all., Cible: 0\n"
     ]
    },
    {
     "data": {
      "image/png": "[encoded data removed]",
      "text/plain": [
       "<Figure size 1200x800 with 1 Axes>"
      ]
     },
     "metadata": {},
     "output_type": "display_data"
    }
   ],
   "source": [
    "# Vérification de la prévisibilité de la cible\n",
    "print(\"TWEETS ALEATOIRE --> CIBLE PREVISIBLE ?\")\n",
    "\n",
    "# Affichage de quelques tweets aléatoires avec leur cible\n",
    "random_tweets = df.sample(30)\n",
    "print(\"Exemples de tweets aléatoires avec leur cible :\")\n",
    "for index, row in random_tweets.iterrows():\n",
    "    print(f\"Tweet: {row['text']}, Cible: {row['target']}\")\n",
    "\n",
    "# Visualisation des tweets aléatoires\n",
    "plt.figure(figsize=(12, 8))\n",
    "sns.scatterplot(x=random_tweets.index, y=random_tweets['text'].str.len(), hue=random_tweets['target'], palette='viridis')\n",
    "plt.title('Tweets aléatoires avec leur longueur et cible')\n",
    "plt.xlabel('Index des tweets')\n",
    "plt.ylabel('Longueur du tweet (en caractères)')\n",
    "plt.legend(title='Cible')\n",
    "plt.show()"
   ]
  }
 ],
 "metadata": {
  "kernelspec": {
   "display_name": "venv",
   "language": "python",
   "name": "python3"
  },
  "language_info": {
   "codemirror_mode": {
    "name": "ipython",
    "version": 3
   },
   "file_extension": ".py",
   "mimetype": "text/x-python",
   "name": "python",
   "nbconvert_exporter": "python",
   "pygments_lexer": "ipython3",
   "version": "3.12.0"
  }
 },
 "nbformat": 4,
 "nbformat_minor": 5
}
